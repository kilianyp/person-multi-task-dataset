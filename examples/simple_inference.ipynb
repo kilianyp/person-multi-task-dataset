{
 "cells": [
  {
   "cell_type": "code",
   "execution_count": 1,
   "metadata": {},
   "outputs": [
    {
     "name": "stdout",
     "output_type": "stream",
     "text": [
      "default logger\n"
     ]
    }
   ],
   "source": [
    "import sys\n",
    "sys.path.append('../')\n",
    "import torch\n",
    "from builders import model_builder\n",
    "from torchvision import transforms\n",
    "from PIL import Image\n",
    "import utils"
   ]
  },
  {
   "cell_type": "code",
   "execution_count": 2,
   "metadata": {},
   "outputs": [],
   "source": [
    "%load_ext autoreload\n",
    "%autoreload 2"
   ]
  },
  {
   "cell_type": "code",
   "execution_count": 3,
   "metadata": {},
   "outputs": [],
   "source": [
    "H = 256\n",
    "W = 128\n",
    "mean = [0.485, 0.456, 0.406]\n",
    "std = [0.229, 0.224, 0.225]\n",
    "\n",
    "# Test time augmentation would give +1.5%\n",
    "\n",
    "transform = transforms.Compose([\n",
    "    transforms.Resize((H, W)),\n",
    "    transforms.ToTensor(),\n",
    "    transforms.Normalize(mean, std)\n",
    "])"
   ]
  },
  {
   "cell_type": "code",
   "execution_count": 42,
   "metadata": {},
   "outputs": [
    {
     "name": "stdout",
     "output_type": "stream",
     "text": [
      "Setting weights from /globalwork/pfeiffer/weights/model_v1.pth.\n"
     ]
    }
   ],
   "source": [
    "model_cfg, _, _ = utils.restore_checkpoint('/globalwork/pfeiffer/weights/model_v1.pth', map_location='cpu')"
   ]
  },
  {
   "cell_type": "code",
   "execution_count": 43,
   "metadata": {
    "scrolled": true
   },
   "outputs": [
    {
     "name": "stdout",
     "output_type": "stream",
     "text": [
      "num_channels_per_group:16\n",
      "num_channels_per_group:16\n",
      "num_channels_per_group:16\n",
      "num_channels_per_group:16\n",
      "num_channels_per_group:16\n",
      "num_channels_per_group:16\n",
      "num_channels_per_group:16\n",
      "num_channels_per_group:16\n",
      "num_channels_per_group:16\n",
      "num_channels_per_group:16\n",
      "num_channels_per_group:16\n",
      "num_channels_per_group:16\n",
      "num_channels_per_group:16\n",
      "num_channels_per_group:16\n",
      "num_channels_per_group:16\n",
      "num_channels_per_group:16\n",
      "num_channels_per_group:16\n",
      "num_channels_per_group:16\n",
      "num_channels_per_group:16\n",
      "num_channels_per_group:16\n",
      "num_channels_per_group:16\n",
      "num_channels_per_group:16\n",
      "num_channels_per_group:16\n",
      "num_channels_per_group:16\n",
      "num_channels_per_group:16\n",
      "num_channels_per_group:16\n",
      "num_channels_per_group:16\n",
      "num_channels_per_group:16\n",
      "num_channels_per_group:16\n",
      "num_channels_per_group:16\n",
      "num_channels_per_group:16\n",
      "num_channels_per_group:16\n",
      "num_channels_per_group:16\n",
      "num_channels_per_group:16\n",
      "num_channels_per_group:16\n",
      "num_channels_per_group:16\n",
      "num_channels_per_group:16\n",
      "num_channels_per_group:16\n",
      "num_channels_per_group:16\n",
      "num_channels_per_group:16\n",
      "num_channels_per_group:16\n",
      "num_channels_per_group:16\n",
      "num_channels_per_group:16\n",
      "num_channels_per_group:16\n",
      "num_channels_per_group:16\n",
      "num_channels_per_group:16\n",
      "num_channels_per_group:16\n",
      "num_channels_per_group:16\n",
      "num_channels_per_group:16\n",
      "num_channels_per_group:16\n",
      "num_channels_per_group:16\n",
      "num_channels_per_group:16\n",
      "num_channels_per_group:16\n",
      "num_channels_per_group:16\n",
      "num_channels_per_group:16\n",
      "num_channels_per_group:16\n",
      "num_channels_per_group:16\n",
      "num_channels_per_group:16\n",
      "num_channels_per_group:16\n",
      "num_channels_per_group:16\n",
      "num_channels_per_group:16\n",
      "num_channels_per_group:16\n",
      "num_channels_per_group:16\n"
     ]
    }
   ],
   "source": [
    "model = model_builder.build(model_cfg)"
   ]
  },
  {
   "cell_type": "code",
   "execution_count": 32,
   "metadata": {},
   "outputs": [],
   "source": [
    "model = model.eval()\n",
    "# optionally, put model on cuda\n",
    "# model = model.cuda()"
   ]
  },
  {
   "cell_type": "code",
   "execution_count": 9,
   "metadata": {},
   "outputs": [],
   "source": [
    "%matplotlib inline"
   ]
  },
  {
   "cell_type": "code",
   "execution_count": 20,
   "metadata": {},
   "outputs": [],
   "source": [
    "import os"
   ]
  },
  {
   "cell_type": "code",
   "execution_count": 22,
   "metadata": {},
   "outputs": [],
   "source": [
    "import numpy as np"
   ]
  },
  {
   "cell_type": "code",
   "execution_count": 25,
   "metadata": {},
   "outputs": [],
   "source": [
    "base_dir = '/globalwork/data/market1501/bounding_box_test/'\n",
    "test_images = os.listdir(base_dir)"
   ]
  },
  {
   "cell_type": "code",
   "execution_count": 38,
   "metadata": {},
   "outputs": [
    {
     "name": "stdout",
     "output_type": "stream",
     "text": [
      "/globalwork/data/market1501/bounding_box_test/0916_c6s2_107993_01.jpg\n"
     ]
    },
    {
     "data": {
      "image/png": "[encoded data removed]",
      "text/plain": [
       "<PIL.JpegImagePlugin.JpegImageFile image mode=RGB size=64x128 at 0x7FEA118F18D0>"
      ]
     },
     "execution_count": 38,
     "metadata": {},
     "output_type": "execute_result"
    }
   ],
   "source": [
    "test_path = os.path.join(base_dir, test_images[np.random.randint(0, len(test_images))])\n",
    "print(test_path)\n",
    "image = Image.open(test_path)\n",
    "image"
   ]
  },
  {
   "cell_type": "code",
   "execution_count": 39,
   "metadata": {},
   "outputs": [],
   "source": [
    "tensor = transform(image).unsqueeze(0) # add batch dim"
   ]
  },
  {
   "cell_type": "code",
   "execution_count": 33,
   "metadata": {},
   "outputs": [],
   "source": [
    "# if model is on cuda --> move tensor to cuda\n",
    "# tensor = tensor.cuda()"
   ]
  },
  {
   "cell_type": "code",
   "execution_count": 40,
   "metadata": {},
   "outputs": [],
   "source": [
    "endpoints = model.infere({'img': tensor})"
   ]
  },
  {
   "cell_type": "code",
   "execution_count": 41,
   "metadata": {},
   "outputs": [
    {
     "data": {
      "text/plain": [
       "tensor([[1.9301, 2.7547, 0.3917,  ..., 1.7827, 1.2871, 0.1364]])"
      ]
     },
     "execution_count": 41,
     "metadata": {},
     "output_type": "execute_result"
    }
   ],
   "source": [
    "emb = endpoints['emb']\n",
    "emb"
   ]
  }
 ],
 "metadata": {
  "kernelspec": {
   "display_name": "Python 3",
   "language": "python",
   "name": "python3"
  },
  "language_info": {
   "codemirror_mode": {
    "name": "ipython",
    "version": 3
   },
   "file_extension": ".py",
   "mimetype": "text/x-python",
   "name": "python",
   "nbconvert_exporter": "python",
   "pygments_lexer": "ipython3",
   "version": "3.6.3"
  }
 },
 "nbformat": 4,
 "nbformat_minor": 2
}
